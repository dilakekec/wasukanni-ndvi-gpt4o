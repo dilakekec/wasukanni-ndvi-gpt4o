{
 "cells": [
  {
   "cell_type": "markdown",
   "id": "225e686b",
   "metadata": {
    "papermill": {
     "duration": 0.003392,
     "end_time": "2025-05-16T19:45:56.246764",
     "exception": false,
     "start_time": "2025-05-16T19:45:56.243372",
     "status": "completed"
    },
    "tags": []
   },
   "source": [
    "\n",
    "> *In this notebook, we use Sentinel-2 satellite imagery and NDVI analysis to investigate the region around 36.98N, 40.05E—believed to be the possible location of Waššukanni, capital of the ancient Mitanni Empire.By leveraging Google Earth Engine and GPT-4o's interpretive reasoning, we examine vegetation anomalies that may indicate hidden archaeological features.*\n",
    "> \n"
   ]
  },
  {
   "cell_type": "markdown",
   "id": "c6649dc1",
   "metadata": {
    "papermill": {
     "duration": 0.002597,
     "end_time": "2025-05-16T19:45:56.252615",
     "exception": false,
     "start_time": "2025-05-16T19:45:56.250018",
     "status": "completed"
    },
    "tags": []
   },
   "source": [
    "**Historical Context: The Mitanni Civilization**\n",
    "\n",
    "*The Mitanni were a Hurrian-speaking state that ruled over parts of northern Mesopotamia and southeastern Anatolia during the 16th to 13th centuries BCE. Waššukanni is believed to have been their capital, yet its exact location remains unknown.*\n",
    "\n",
    "Historians and archaeologists have hypothesized it may lie somewhere near modern-day **Ceylanpınar**, Turkey — the focus of this investigation."
   ]
  },
  {
   "cell_type": "markdown",
   "id": "a6b8e446",
   "metadata": {
    "papermill": {
     "duration": 0.002563,
     "end_time": "2025-05-16T19:45:56.257944",
     "exception": false,
     "start_time": "2025-05-16T19:45:56.255381",
     "status": "completed"
    },
    "tags": []
   },
   "source": [
    "**What is NDVI?**\n",
    "\n",
    "NDVI (Normalized Difference Vegetation Index) is a remote sensing index used to analyze vegetation density and health. It is calculated from satellite imagery using the red and near-infrared bands:\n",
    "\n",
    "`NDVI = (NIR - RED) / (NIR + RED)`\n",
    "\n",
    "Low NDVI values in an otherwise green area may suggest the presence of man-made subsurface features, such as buried walls or foundations, which inhibit vegetation growth."
   ]
  },
  {
   "cell_type": "markdown",
   "id": "f3b108ef",
   "metadata": {
    "papermill": {
     "duration": 0.002467,
     "end_time": "2025-05-16T19:45:56.263086",
     "exception": false,
     "start_time": "2025-05-16T19:45:56.260619",
     "status": "completed"
    },
    "tags": []
   },
   "source": [
    "<a href=\"https://ibb.co/7xBBkkH4\"><img src=\"https://i.ibb.co/20RRZZwN/output-1.png\" alt=\"output-1\" border=\"0\"></a>\n",
    "NDVI Heatmap with Detected Anomalies\n",
    "\n",
    "In this enhanced visualization, low NDVI zones (< 0.05) are marked in red. These areas indicate suppressed vegetation growth and may correspond to buried man-made structures such as walls, roads, or foundations.\n",
    "\n",
    "The spatial clustering and geometric distribution of these anomalies further support their non-natural origin."
   ]
  },
  {
   "cell_type": "markdown",
   "id": "728c772d",
   "metadata": {
    "papermill": {
     "duration": 0.002362,
     "end_time": "2025-05-16T19:45:56.268038",
     "exception": false,
     "start_time": "2025-05-16T19:45:56.265676",
     "status": "completed"
    },
    "tags": []
   },
   "source": [
    "<a href=\"https://ibb.co/wF7c046w\"><img src=\"https://i.ibb.co/KpDK0WyL/output-2.png\" alt=\"output-2\" border=\"0\"></a>\n",
    "\n",
    "**NDVI Heatmap and Value Distribution**\n",
    "\n",
    "\n",
    "*This figure provides both a heatmap of simulated NDVI values and their distribution across the region. A significant portion of the pixels fall below 0.05 (marked in red), indicating potential vegetation suppression due to underlying man-made structures.Such anomalies often align with archaeological remnants like walls or platforms buried beneath the surface.*\n"
   ]
  },
  {
   "cell_type": "markdown",
   "id": "e0c11c65",
   "metadata": {
    "papermill": {
     "duration": 0.002357,
     "end_time": "2025-05-16T19:45:56.272931",
     "exception": false,
     "start_time": "2025-05-16T19:45:56.270574",
     "status": "completed"
    },
    "tags": []
   },
   "source": [
    "** *NDVI Calculation Using Google Earth Engine***\n",
    "\n",
    "**// Define the Waššukanni region by coordinates**\n",
    "var area = ee.Geometry.Rectangle([39.95, 36.90, 40.15, 37.05]);\n",
    "\n",
    "**// Select Sentinel-2 surface reflectance images**\n",
    "var image = ee.ImageCollection('COPERNICUS/S2_SR')\n",
    "  .filterBounds(area)\n",
    "  .filterDate('2025-05-01', '2025-05-15')\n",
    "  .filter(ee.Filter.lt('CLOUDY_PIXEL_PERCENTAGE', 10))\n",
    "  .sort('CLOUDY_PIXEL_PERCENTAGE')\n",
    "  .first();\n",
    "\n",
    "**// Compute NDVI from NIR and Red bands**\n",
    "var ndvi = image.normalizedDifference(['B8', 'B4']).rename('NDVI');\n",
    "\n",
    "**// Visualize**\n",
    "Map.centerObject(area, 11);\n",
    "Map.addLayer(ndvi, {min: 0, max: 1, palette: ['white', 'green']}, 'NDVI');\n",
    "\n",
    "**// Display image metadata**\n",
    "print('Image used:', image);\n"
   ]
  },
  {
   "cell_type": "markdown",
   "id": "68054eeb",
   "metadata": {
    "papermill": {
     "duration": 0.002332,
     "end_time": "2025-05-16T19:45:56.277873",
     "exception": false,
     "start_time": "2025-05-16T19:45:56.275541",
     "status": "completed"
    },
    "tags": []
   },
   "source": [
    "This script was executed on [Google Earth Engine](https://code.earthengine.google.com) to produce the NDVI heatmap of the Waššukanni region. The NDVI is calculated using Sentinel-2 surface reflectance imagery with low cloud cover, filtering dates from May 1 to May 15, 2025."
   ]
  },
  {
   "cell_type": "markdown",
   "id": "c36c5957",
   "metadata": {
    "papermill": {
     "duration": 0.002372,
     "end_time": "2025-05-16T19:45:56.282753",
     "exception": false,
     "start_time": "2025-05-16T19:45:56.280381",
     "status": "completed"
    },
    "tags": []
   },
   "source": [
    "\n",
    "* **Lost Cities of Anatolia: GPT-4o Assisted Discovery of Waššukanni**  1. Introduction  2. Coordinates and Context  3. Satellite Data and NDVI  4. Elevation / LIDAR Analysis  5. GPT-4o Archaeological Reasoning  6. Findings & Interpretation  7. Conclusion*\n",
    "\n",
    "\n"
   ]
  },
  {
   "cell_type": "markdown",
   "id": "79725b23",
   "metadata": {
    "papermill": {
     "duration": 0.00294,
     "end_time": "2025-05-16T19:45:56.288328",
     "exception": false,
     "start_time": "2025-05-16T19:45:56.285388",
     "status": "completed"
    },
    "tags": []
   },
   "source": [
    "<a href=\"https://ibb.co/z1VqCW0\"><img src=\"https://i.ibb.co/0kyH1pd/Ekran-g-r-nt-s-2025-05-16-200127.png\" alt=\"Ekran-g-r-nt-s-2025-05-16-200127\" border=\"0\"></a>"
   ]
  },
  {
   "cell_type": "markdown",
   "id": "16d3c20a",
   "metadata": {
    "papermill": {
     "duration": 0.002651,
     "end_time": "2025-05-16T19:45:56.293636",
     "exception": false,
     "start_time": "2025-05-16T19:45:56.290985",
     "status": "completed"
    },
    "tags": []
   },
   "source": [
    "**Figure 1:**\n",
    "*NDVI Heatmap of Waššukanni (36.98N, 40.05E). *\n",
    "Red zones highlight suppressed vegetation, possibly due to buried structures."
   ]
  },
  {
   "cell_type": "markdown",
   "id": "ce1287e6",
   "metadata": {
    "papermill": {
     "duration": 0.002461,
     "end_time": "2025-05-16T19:45:56.299087",
     "exception": false,
     "start_time": "2025-05-16T19:45:56.296626",
     "status": "completed"
    },
    "tags": []
   },
   "source": [
    "** GPT-4o Analysis — Archaeological Reasoning**\n",
    "Based on the NDVI anomalies observed in the region near 36.98N, 40.05E, particularly in the northeastern quadrant, the presence of rectangular low-NDVI zones with aligned, geometric boundaries strongly suggests the possibility of man-made structures beneath the surface.\n",
    "\n",
    "Such regular shapes are uncommon in natural vegetation patterns and tend to reflect subsurface anomalies, potentially caused by:\n",
    "\n",
    "1. Buried foundations of large buildings (e.g., palaces or storage complexes),\n",
    "\n",
    "2. Ancient roads or fortification walls disrupting soil moisture and plant growth,\n",
    "\n",
    "3. Ceremonial or urban zones that have altered the soil's biological profile.\n",
    "\n",
    "*Given the proximity to the hypothetical location of Waššukanni, capital of the Mitanni Empire, these features are geoarchaeologically significant. The Mitanni are historically known for their planned administrative architecture, and the scale and pattern of these anomalies are consistent with known ancient city layouts.*"
   ]
  },
  {
   "cell_type": "markdown",
   "id": "f20261bf",
   "metadata": {
    "papermill": {
     "duration": 0.002411,
     "end_time": "2025-05-16T19:45:56.304114",
     "exception": false,
     "start_time": "2025-05-16T19:45:56.301703",
     "status": "completed"
    },
    "tags": []
   },
   "source": [
    "**Conclusion:**\n",
    "The observed NDVI anomalies are compelling and may represent buried archaeological remains. This site warrants further investigation through high-resolution topographic analysis or ground-based surveys."
   ]
  },
  {
   "cell_type": "markdown",
   "id": "2a8f29bb",
   "metadata": {
    "papermill": {
     "duration": 0.002379,
     "end_time": "2025-05-16T19:45:56.309407",
     "exception": false,
     "start_time": "2025-05-16T19:45:56.307028",
     "status": "completed"
    },
    "tags": []
   },
   "source": [
    "**Limitations & Future Work**\n",
    "\n",
    "- **Satellite resolution**: Sentinel-2 has 10m resolution, which may miss smaller structures.\n",
    "- **No ground validation**: No field data was used to verify the anomalies.\n",
    "- **Only NDVI used**: Combining NDVI with topographic or radar data (e.g., LIDAR, SAR) could improve reliability.\n",
    "\n",
    "In future iterations, we plan to analyze **Tigranokerta** and expand the area grid-by-grid using automated GPT-4o prompts."
   ]
  },
  {
   "cell_type": "markdown",
   "id": "666742ff",
   "metadata": {
    "papermill": {
     "duration": 0.00273,
     "end_time": "2025-05-16T19:45:56.314718",
     "exception": false,
     "start_time": "2025-05-16T19:45:56.311988",
     "status": "completed"
    },
    "tags": []
   },
   "source": [
    "**What's Next? Tigranokerta**\n",
    "\n",
    "Our next investigation will focus on the lost Armenian capital of **Tigranokerta**, located near modern-day Silvan, Turkey.\n",
    "\n",
    "Using the same NDVI+GPT-4o method, we aim to uncover hidden features buried beneath the Anatolian landscape. Stay tuned!"
   ]
  },
  {
   "cell_type": "markdown",
   "id": "1fb542bf",
   "metadata": {
    "papermill": {
     "duration": 0.002338,
     "end_time": "2025-05-16T19:45:56.319649",
     "exception": false,
     "start_time": "2025-05-16T19:45:56.317311",
     "status": "completed"
    },
    "tags": []
   },
   "source": [
    "\n",
    "*If you found this project interesting, please consider giving it an upvote!  Every bit of support helps us uncover the past using the tools of the future.*\n",
    "\n",
    "\n",
    " **Follow for updates as we expand this method to more ancient cities across Anatolia & Mesopotamia.**"
   ]
  },
  {
   "cell_type": "markdown",
   "id": "ff6903d7",
   "metadata": {
    "papermill": {
     "duration": 0.002319,
     "end_time": "2025-05-16T19:45:56.324462",
     "exception": false,
     "start_time": "2025-05-16T19:45:56.322143",
     "status": "completed"
    },
    "tags": []
   },
   "source": [
    "Sources & References\n",
    "\n",
    "1. **Copernicus Open Access Hub**  \n",
    "   [https://scihub.copernicus.eu](https://scihub.copernicus.eu)  \n",
    "   Sentinel-2 imagery provided by the European Space Agency (ESA).\n",
    "\n",
    "2. **Google Earth Engine**  \n",
    "   [https://earthengine.google.com](https://earthengine.google.com)  \n",
    "   Cloud-based geospatial processing platform used for NDVI analysis.\n",
    "\n",
    "3. **USGS Earth Explorer**  \n",
    "   [https://earthexplorer.usgs.gov](https://earthexplorer.usgs.gov)  \n",
    "   Alternative source for multispectral and elevation datasets.\n",
    "\n",
    "4. **OpenTopography**  \n",
    "   [https://opentopography.org](https://opentopography.org)  \n",
    "   LIDAR and elevation data repository for archaeological elevation modeling.\n",
    "\n",
    "5. **Mitanni Civilization Overview**  \n",
    "   Bryce, Trevor (2009). *The Routledge Handbook of the Peoples and Places of Ancient Western Asia*. Routledge.  \n",
    "   Provides historical background on the Mitanni Empire and Waššukanni.\n",
    "\n",
    "6. **NDVI Explained**  \n",
    "   Tucker, C.J. (1979). \"Red and photographic infrared linear combinations for monitoring vegetation.\" *Remote Sensing of Environment*, 8(2), 127-150.\n",
    "\n",
    "7. **GPT-4o Language Model**  \n",
    "   [https://openai.com/gpt-4o](https://openai.com/gpt-4o)  \n",
    "   Used for archaeological reasoning and analysis of NDVI-derived anomalies.\n"
   ]
  }
 ],
 "metadata": {
  "kaggle": {
   "accelerator": "none",
   "dataSources": [
    {
     "databundleVersionId": 12334818,
     "sourceId": 101597,
     "sourceType": "competition"
    }
   ],
   "dockerImageVersionId": 31040,
   "isGpuEnabled": false,
   "isInternetEnabled": true,
   "language": "python",
   "sourceType": "notebook"
  },
  "kernelspec": {
   "display_name": "Python 3",
   "language": "python",
   "name": "python3"
  },
  "language_info": {
   "codemirror_mode": {
    "name": "ipython",
    "version": 3
   },
   "file_extension": ".py",
   "mimetype": "text/x-python",
   "name": "python",
   "nbconvert_exporter": "python",
   "pygments_lexer": "ipython3",
   "version": "3.11.11"
  },
  "papermill": {
   "default_parameters": {},
   "duration": 5.541857,
   "end_time": "2025-05-16T19:45:56.746016",
   "environment_variables": {},
   "exception": null,
   "input_path": "__notebook__.ipynb",
   "output_path": "__notebook__.ipynb",
   "parameters": {},
   "start_time": "2025-05-16T19:45:51.204159",
   "version": "2.6.0"
  }
 },
 "nbformat": 4,
 "nbformat_minor": 5
}
